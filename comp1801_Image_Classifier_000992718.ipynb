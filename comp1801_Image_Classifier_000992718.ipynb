{
  "nbformat": 4,
  "nbformat_minor": 0,
  "metadata": {
    "kernelspec": {
      "display_name": "Python 3",
      "language": "python",
      "name": "python3"
    },
    "language_info": {
      "codemirror_mode": {
        "name": "ipython",
        "version": 3
      },
      "file_extension": ".py",
      "mimetype": "text/x-python",
      "name": "python",
      "nbconvert_exporter": "python",
      "pygments_lexer": "ipython3",
      "version": "3.8.5"
    },
    "colab": {
      "name": "comp1801_coursework_000992718_good_model.ipynb",
      "provenance": [],
      "collapsed_sections": []
    },
    "accelerator": "GPU"
  },
  "cells": [
    {
      "cell_type": "markdown",
      "metadata": {
        "id": "9cUASmfhEZ63"
      },
      "source": [
        "# Imports"
      ]
    },
    {
      "cell_type": "code",
      "metadata": {
        "id": "-39FSA-zEZ64"
      },
      "source": [
        "# Python imports\n",
        "import matplotlib.pyplot as plt\n",
        "import numpy as np\n",
        "\n",
        "# Keras model layers\n",
        "import tensorflow as tf\n",
        "from tensorflow.keras.models import Sequential \n",
        "from tensorflow.keras.layers import Dense, Activation, Dropout\n",
        "from tensorflow.keras.optimizers import SGD"
      ],
      "execution_count": 2,
      "outputs": []
    },
    {
      "cell_type": "markdown",
      "metadata": {
        "id": "pahR6ehYEZ64"
      },
      "source": [
        "# Dataset shaping"
      ]
    },
    {
      "cell_type": "code",
      "metadata": {
        "colab": {
          "base_uri": "https://localhost:8080/"
        },
        "id": "pO_JT-BOEZ64",
        "outputId": "5e900f01-0fe2-4c51-b828-02bec6857ffc"
      },
      "source": [
        "# Download and load the dataset\n",
        "(X_train_raw, y_train_raw), (X_test_raw, y_test_raw) = tf.keras.datasets.fashion_mnist.load_data()\n",
        "fashion_mnist = tf.keras.datasets.fashion_mnist.load_data()\n",
        "\n",
        "# Shapes and bounds\n",
        "print('Train set:')\n",
        "print('Sizes:', X_train_raw.shape, y_train_raw.shape)\n",
        "\n",
        "print('Test set:')\n",
        "print('Sizes:', X_test_raw.shape, y_test_raw.shape)\n",
        "\n",
        "print('Image values (min to max):', np.min(X_train_raw), 'to', np.max(X_train_raw))\n",
        "print('Label values (min to max):', np.min(y_train_raw), 'to', np.max(y_train_raw))"
      ],
      "execution_count": 7,
      "outputs": [
        {
          "output_type": "stream",
          "text": [
            "Train set:\n",
            "Sizes: (60000, 28, 28) (60000,)\n",
            "Test set:\n",
            "Sizes: (10000, 28, 28) (10000,)\n",
            "Image values (min to max): 0 to 255\n",
            "Label values (min to max): 0 to 9\n"
          ],
          "name": "stdout"
        }
      ]
    },
    {
      "cell_type": "markdown",
      "metadata": {
        "id": "_9EyxM7KEZ65"
      },
      "source": [
        "# Normalising the dataset"
      ]
    },
    {
      "cell_type": "code",
      "metadata": {
        "colab": {
          "base_uri": "https://localhost:8080/"
        },
        "id": "qFt_mtXlEZ65",
        "outputId": "41d6ad6c-fc16-4330-e212-eddf559b2eca"
      },
      "source": [
        "# normalise raw image data by dividing by the maximum value\n",
        "X_train = X_train_raw / 255 # normalise X_train\n",
        "X_test = X_test_raw / 255 # normalise X_test\n",
        "\n",
        "# flatten normalised data into 1D vectors\n",
        "X_train = np.reshape(X_train, (60000, 784))\n",
        "X_test = np.reshape(X_test, (10000, 784))\n",
        "\n",
        "# convert raw labels to one-hot vectors\n",
        "y_train = tf.keras.utils.to_categorical(y_train_raw, num_classes=10, dtype='float64')\n",
        "# convert y_train\n",
        "\n",
        "y_test = tf.keras.utils.to_categorical(y_test_raw, num_classes=10, dtype='float64')\n",
        "# convert y_test\n",
        "\n",
        "# shuffle training samples (same permutation for X and Y so that labels still correspond)\n",
        "np.random.seed(0) # fix random seed so that everyone has the same dataset permutation\n",
        "permutation = np.random.permutation(X_train.shape[0])\n",
        "X_train = X_train[permutation]\n",
        "y_train = y_train[permutation]\n",
        "\n",
        "# Print shapes and bounds\n",
        "print('### Train set:')\n",
        "print('Sizes:', X_train.shape, y_train.shape)\n",
        "print('Image values (min to max):', np.min(X_train), 'to', np.max(X_train))\n",
        "print('Label values (min to max):', np.min(y_train), 'to', np.max(y_train))\n",
        "print('Total samples per class:', np.sum(y_train, axis=0))\n",
        "\n",
        "print('### Test set:')\n",
        "print('Sizes:', X_test.shape, y_test.shape)\n",
        "print('Image values (min to max):', np.min(X_test), 'to', np.max(X_test))\n",
        "print('Label values (min to max):', np.min(y_test), 'to', np.max(y_test))\n",
        "print('Total samples per class:', np.sum(y_test, axis=0))"
      ],
      "execution_count": null,
      "outputs": [
        {
          "output_type": "stream",
          "text": [
            "### Train set:\n",
            "Sizes: (60000, 784) (60000, 10)\n",
            "Image values (min to max): 0.0 to 1.0\n",
            "Label values (min to max): 0.0 to 1.0\n",
            "Total samples per class: [6000. 6000. 6000. 6000. 6000. 6000. 6000. 6000. 6000. 6000.]\n",
            "### Test set:\n",
            "Sizes: (10000, 784) (10000, 10)\n",
            "Image values (min to max): 0.0 to 1.0\n",
            "Label values (min to max): 0.0 to 1.0\n",
            "Total samples per class: [1000. 1000. 1000. 1000. 1000. 1000. 1000. 1000. 1000. 1000.]\n"
          ],
          "name": "stdout"
        }
      ]
    },
    {
      "cell_type": "markdown",
      "metadata": {
        "id": "cSKHKv6FEZ66"
      },
      "source": [
        "# Sample of what the data looks like"
      ]
    },
    {
      "cell_type": "code",
      "metadata": {
        "colab": {
          "base_uri": "https://localhost:8080/",
          "height": 545
        },
        "id": "802NE6WNEZ66",
        "outputId": "5ea46479-6210-426d-e1b9-2b05de8f19f8"
      },
      "source": [
        "# Display a sample\n",
        "def display_digit(index, xs, ys, title):\n",
        "    label = np.argmax(ys[index]) # argmax used to convert from one-hot back to numeric label\n",
        "    image = xs[index].reshape([28,28]) # make sure that the data is in 2D shape\n",
        "    plt.title(title+': Index: %d  Label: %d' % (index, label))\n",
        "    plt.imshow(image, cmap=plt.get_cmap('gray'))\n",
        "    plt.show()\n",
        "\n",
        "display_digit(index=0, xs=X_train, ys=y_train, title='Train sample') # display the first training example\n",
        "display_digit(index=0, xs=X_test,  ys=y_test,  title='Test sample')  # display the first test example"
      ],
      "execution_count": null,
      "outputs": [
        {
          "output_type": "display_data",
          "data": {
            "image/png": "[encoded data removed]",
            "text/plain": [
              "<Figure size 432x288 with 1 Axes>"
            ]
          },
          "metadata": {
            "tags": [],
            "needs_background": "light"
          }
        },
        {
          "output_type": "display_data",
          "data": {
            "image/png": "[encoded data removed]",
            "text/plain": [
              "<Figure size 432x288 with 1 Axes>"
            ]
          },
          "metadata": {
            "tags": [],
            "needs_background": "light"
          }
        }
      ]
    },
    {
      "cell_type": "markdown",
      "metadata": {
        "id": "MqMtftn6EZ66"
      },
      "source": [
        "# Defining the model constructs"
      ]
    },
    {
      "cell_type": "code",
      "metadata": {
        "id": "9knC9sw1EZ66"
      },
      "source": [
        "# get input and output sizes\n",
        "input_dim = X_train.shape[1] # 784\n",
        "output_dim = y_train.shape[1] # 10\n",
        "\n",
        "# Create Sequential model - this allows you to add layers one after the other to build your model\n",
        "model = Sequential()\n",
        "model.add(Dense(input_dim, activation=\"relu\"))\n",
        "model.add(Dropout(0.5))\n",
        "model.add(Dense(100, activation=\"relu\"))\n",
        "model.add(Dropout(0.5))\n",
        "model.add(Dense(output_dim, activation='softmax'))\n",
        "\n",
        "# Compile model\n",
        "optim = SGD(lr=0.01)\n",
        "model.compile(optimizer=optim, loss='categorical_crossentropy', metrics=['accuracy'])"
      ],
      "execution_count": null,
      "outputs": []
    },
    {
      "cell_type": "markdown",
      "metadata": {
        "id": "1tj5xdkwEZ67"
      },
      "source": [
        "# Training the model"
      ]
    },
    {
      "cell_type": "code",
      "metadata": {
        "colab": {
          "base_uri": "https://localhost:8080/"
        },
        "id": "cEv-J9HpEZ67",
        "outputId": "b4bcd7e1-3129-44de-803d-4ada083a7bfd"
      },
      "source": [
        "# settings\n",
        "batch_size = 32\n",
        "nb_epoch = 20\n",
        "\n",
        "# train the model and save training history\n",
        "history = model.fit(X_train, y_train,\n",
        "          batch_size=batch_size, \n",
        "          epochs=nb_epoch, \n",
        "          verbose=1, \n",
        "          validation_split=(0.06) # set 10K samples (out of 60K) aside for validation\n",
        ")\n",
        "\n",
        "# save model weights to file\n",
        "model.save_weights('fashion_mnist_logistic_regression.h5')"
      ],
      "execution_count": null,
      "outputs": [
        {
          "output_type": "stream",
          "text": [
            "Epoch 1/20\n",
            "1763/1763 [==============================] - 4s 2ms/step - loss: 0.9587 - accuracy: 0.6652 - val_loss: 0.5857 - val_accuracy: 0.8019\n",
            "Epoch 2/20\n",
            "1763/1763 [==============================] - 4s 2ms/step - loss: 0.6353 - accuracy: 0.7793 - val_loss: 0.5039 - val_accuracy: 0.8250\n",
            "Epoch 3/20\n",
            "1763/1763 [==============================] - 4s 2ms/step - loss: 0.5596 - accuracy: 0.8054 - val_loss: 0.4671 - val_accuracy: 0.8300\n",
            "Epoch 4/20\n",
            "1763/1763 [==============================] - 4s 2ms/step - loss: 0.5185 - accuracy: 0.8190 - val_loss: 0.4406 - val_accuracy: 0.8419\n",
            "Epoch 5/20\n",
            "1763/1763 [==============================] - 4s 2ms/step - loss: 0.4922 - accuracy: 0.8279 - val_loss: 0.4269 - val_accuracy: 0.8472\n",
            "Epoch 6/20\n",
            "1763/1763 [==============================] - 4s 2ms/step - loss: 0.4701 - accuracy: 0.8361 - val_loss: 0.4230 - val_accuracy: 0.8475\n",
            "Epoch 7/20\n",
            "1763/1763 [==============================] - 4s 2ms/step - loss: 0.4534 - accuracy: 0.8420 - val_loss: 0.4083 - val_accuracy: 0.8531\n",
            "Epoch 8/20\n",
            "1763/1763 [==============================] - 4s 2ms/step - loss: 0.4424 - accuracy: 0.8458 - val_loss: 0.3983 - val_accuracy: 0.8553\n",
            "Epoch 9/20\n",
            "1763/1763 [==============================] - 4s 2ms/step - loss: 0.4292 - accuracy: 0.8493 - val_loss: 0.3909 - val_accuracy: 0.8603\n",
            "Epoch 10/20\n",
            "1763/1763 [==============================] - 4s 2ms/step - loss: 0.4220 - accuracy: 0.8518 - val_loss: 0.3824 - val_accuracy: 0.8631\n",
            "Epoch 11/20\n",
            "1763/1763 [==============================] - 4s 2ms/step - loss: 0.4111 - accuracy: 0.8553 - val_loss: 0.3779 - val_accuracy: 0.8653\n",
            "Epoch 12/20\n",
            "1763/1763 [==============================] - 4s 2ms/step - loss: 0.4025 - accuracy: 0.8586 - val_loss: 0.3739 - val_accuracy: 0.8647\n",
            "Epoch 13/20\n",
            "1763/1763 [==============================] - 4s 2ms/step - loss: 0.3958 - accuracy: 0.8603 - val_loss: 0.3649 - val_accuracy: 0.8675\n",
            "Epoch 14/20\n",
            "1763/1763 [==============================] - 4s 2ms/step - loss: 0.3887 - accuracy: 0.8634 - val_loss: 0.3634 - val_accuracy: 0.8694\n",
            "Epoch 15/20\n",
            "1763/1763 [==============================] - 4s 2ms/step - loss: 0.3832 - accuracy: 0.8660 - val_loss: 0.3598 - val_accuracy: 0.8714\n",
            "Epoch 16/20\n",
            "1763/1763 [==============================] - 4s 2ms/step - loss: 0.3785 - accuracy: 0.8665 - val_loss: 0.3558 - val_accuracy: 0.8683\n",
            "Epoch 17/20\n",
            "1763/1763 [==============================] - 4s 2ms/step - loss: 0.3703 - accuracy: 0.8682 - val_loss: 0.3516 - val_accuracy: 0.8722\n",
            "Epoch 18/20\n",
            "1763/1763 [==============================] - 4s 2ms/step - loss: 0.3658 - accuracy: 0.8713 - val_loss: 0.3491 - val_accuracy: 0.8717\n",
            "Epoch 19/20\n",
            "1763/1763 [==============================] - 4s 2ms/step - loss: 0.3606 - accuracy: 0.8718 - val_loss: 0.3466 - val_accuracy: 0.8742\n",
            "Epoch 20/20\n",
            "1763/1763 [==============================] - 4s 2ms/step - loss: 0.3575 - accuracy: 0.8729 - val_loss: 0.3397 - val_accuracy: 0.8750\n"
          ],
          "name": "stdout"
        }
      ]
    },
    {
      "cell_type": "markdown",
      "metadata": {
        "id": "kccMceCiEZ67"
      },
      "source": [
        "# Model Evaluation"
      ]
    },
    {
      "cell_type": "code",
      "metadata": {
        "colab": {
          "base_uri": "https://localhost:8080/"
        },
        "id": "K9rJfvwEEZ67",
        "outputId": "db778004-61fc-4042-df01-264ddb6912d3"
      },
      "source": [
        "# load model weights from file\n",
        "model.load_weights('fashion_mnist_logistic_regression.h5')\n",
        "\n",
        "score = model.evaluate(X_test, y_test, verbose=1)\n",
        "print('Test loss:', score[0]) \n",
        "print('Test accuracy:', score[1])"
      ],
      "execution_count": null,
      "outputs": [
        {
          "output_type": "stream",
          "text": [
            "313/313 [==============================] - 1s 2ms/step - loss: 0.3521 - accuracy: 0.8749\n",
            "Test loss: 0.3521159589290619\n",
            "Test accuracy: 0.8748999834060669\n"
          ],
          "name": "stdout"
        }
      ]
    },
    {
      "cell_type": "markdown",
      "metadata": {
        "id": "AdvMpn_pEZ67"
      },
      "source": [
        "# Training Behaviour"
      ]
    },
    {
      "cell_type": "code",
      "metadata": {
        "colab": {
          "base_uri": "https://localhost:8080/",
          "height": 334
        },
        "id": "Huad4QyDEZ68",
        "outputId": "0e135637-5f13-4d02-d065-808c13fe49e6"
      },
      "source": [
        "# summarize history for loss and accuracy\n",
        "\n",
        "fig, (ax1, ax2) = plt.subplots(1, 2, figsize=(20,5))\n",
        "\n",
        "ax1.plot(history.history['loss'])\n",
        "ax1.plot(history.history['val_loss'])\n",
        "ax1.set_ylabel('loss')\n",
        "ax1.set_xlabel('epoch')\n",
        "ax1.legend(['training', 'validation'], loc='upper right')\n",
        "ax1.yaxis.grid()\n",
        "\n",
        "ax2.plot(history.history['accuracy'])\n",
        "ax2.plot(history.history['val_accuracy'])\n",
        "ax2.set_ylabel('accuracy')\n",
        "ax2.set_xlabel('epoch')\n",
        "ax2.legend(['training', 'validation'], loc='upper left')\n",
        "ax2.yaxis.grid()\n",
        "\n",
        "plt.show()"
      ],
      "execution_count": null,
      "outputs": [
        {
          "output_type": "display_data",
          "data": {
            "image/png": "[encoded data removed]",
            "text/plain": [
              "<Figure size 1440x360 with 2 Axes>"
            ]
          },
          "metadata": {
            "tags": [],
            "needs_background": "light"
          }
        }
      ]
    },
    {
      "cell_type": "code",
      "metadata": {
        "id": "u0UY6-fiEZ68",
        "outputId": "f12315bd-0bfb-412c-8686-8c7f9904e24c"
      },
      "source": [
        "model.summary()"
      ],
      "execution_count": null,
      "outputs": [
        {
          "output_type": "stream",
          "text": [
            "Model: \"sequential_7\"\n",
            "_________________________________________________________________\n",
            "Layer (type)                 Output Shape              Param #   \n",
            "=================================================================\n",
            "dense_29 (Dense)             multiple                  615440    \n",
            "_________________________________________________________________\n",
            "dropout_20 (Dropout)         multiple                  0         \n",
            "_________________________________________________________________\n",
            "dense_30 (Dense)             multiple                  78500     \n",
            "_________________________________________________________________\n",
            "dropout_21 (Dropout)         multiple                  0         \n",
            "_________________________________________________________________\n",
            "dense_31 (Dense)             multiple                  1010      \n",
            "=================================================================\n",
            "Total params: 694,950\n",
            "Trainable params: 694,950\n",
            "Non-trainable params: 0\n",
            "_________________________________________________________________\n"
          ],
          "name": "stdout"
        }
      ]
    },
    {
      "cell_type": "code",
      "metadata": {
        "id": "DRRL6rqPHS9O"
      },
      "source": [
        "import pickle\r\n",
        "import numpy as np\r\n",
        "\r\n",
        "# save to file for later use\r\n",
        "myData = {\r\n",
        "    'fashion_mnist dataset': fashion_mnist\r\n",
        "}\r\n",
        "\r\n",
        "#print(myData)\r\n",
        "\r\n",
        "with open('fashion_mnist dataset.pkl', 'wb') as f:\r\n",
        "    pickle.dump(myData, f)"
      ],
      "execution_count": 13,
      "outputs": []
    }
  ]
}